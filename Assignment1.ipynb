{
 "cells": [
  {
   "cell_type": "code",
   "execution_count": 4,
   "id": "23fb2405",
   "metadata": {},
   "outputs": [],
   "source": [
    "import pandas as pd\n",
    "import numpy as np\n",
    "import matplotlib.pyplot as plt\n",
    "from sklearn.linear_model import LinearRegression"
   ]
  },
  {
   "cell_type": "code",
   "execution_count": 5,
   "id": "11b600ac",
   "metadata": {},
   "outputs": [
    {
     "name": "stdout",
     "output_type": "stream",
     "text": [
      "Dataset loaded successfully. First few rows:\n",
      "   i  x_i    y_i\n",
      "0  1    0  20.26\n",
      "1  2    1   5.61\n",
      "2  3    2   3.14\n",
      "3  4    3 -30.00\n",
      "4  5    4 -40.00\n",
      "\n",
      "Dataset statistics:\n",
      "              i       x_i        y_i\n",
      "count  10.00000  10.00000  10.000000\n",
      "mean    5.50000   4.50000 -12.091000\n",
      "std     3.02765   3.02765  18.035693\n",
      "min     1.00000   0.00000 -40.000000\n",
      "25%     3.25000   2.25000 -23.010000\n",
      "50%     5.50000   4.50000 -13.905000\n",
      "75%     7.75000   6.75000   0.322500\n",
      "max    10.00000   9.00000  20.260000\n"
     ]
    }
   ],
   "source": [
    "def load_data():\n",
    "    df = pd.read_excel('DataSet.xlsx', sheet_name='Sheet1', engine='openpyxl')\n",
    "    print(\"Dataset loaded successfully. First few rows:\")\n",
    "    print(df.head())\n",
    "    print(\"\\nDataset statistics:\")\n",
    "    print(df.describe())\n",
    "    return df\n",
    "\n",
    "df = load_data()"
   ]
  },
  {
   "cell_type": "code",
   "execution_count": 13,
   "id": "e46ceaee",
   "metadata": {},
   "outputs": [
    {
     "name": "stdout",
     "output_type": "stream",
     "text": [
      "Linear Regression Model: y = -3.56x + 3.92\n"
     ]
    }
   ],
   "source": [
    "# Reshape x into 2D for sklearn\n",
    "X = df['x_i'].values.reshape(-1, 1)\n",
    "y = df['y_i'].values\n",
    "\n",
    "# Fit model\n",
    "model = LinearRegression()\n",
    "model.fit(X, y)\n",
    "\n",
    "# Get coefficients\n",
    "slope = model.coef_[0]\n",
    "intercept = model.intercept_\n",
    "print(f\"Linear Regression Model: y = {slope:.2f}x + {intercept:.2f}\")\n"
   ]
  },
  {
   "cell_type": "code",
   "execution_count": 10,
   "id": "7cf7bd85",
   "metadata": {},
   "outputs": [
    {
     "data": {
      "image/png": "[encoded data removed]",
      "text/plain": [
       "<Figure size 640x480 with 1 Axes>"
      ]
     },
     "metadata": {},
     "output_type": "display_data"
    }
   ],
   "source": [
    "plt.scatter(df['x_i'], df['y_i'], color='blue', label=\"Data points\")\n",
    "\n",
    "# Predicted line\n",
    "y_pred = model.predict(X)\n",
    "plt.plot(df['x_i'], y_pred, color='red', label=\"Linear Regression\")\n",
    "\n",
    "plt.xlabel(\"x\")\n",
    "plt.ylabel(\"y\")\n",
    "plt.title(\"Linear Regression on Dataset\")\n",
    "plt.legend()\n",
    "plt.show()\n"
   ]
  },
  {
   "cell_type": "code",
   "execution_count": 11,
   "id": "69cd5ddd",
   "metadata": {},
   "outputs": [
    {
     "name": "stdout",
     "output_type": "stream",
     "text": [
      "          Beta  Loss_Model1  Loss_Model2\n",
      "0     1.000000     0.435416     0.972847\n",
      "1     0.000001     1.000000     1.000000\n",
      "2  1000.000000     0.000227     0.000188\n"
     ]
    }
   ],
   "source": [
    "import numpy as np\n",
    "import pandas as pd\n",
    "\n",
    "x = df['x_i'].values\n",
    "y = df['y_i'].values\n",
    "\n",
    "# Define the models\n",
    "def model1(x):\n",
    "    return -4*x + 12\n",
    "\n",
    "def model2(x):\n",
    "    return -3.55*x + 3.91\n",
    "\n",
    "# Loss function\n",
    "def robust_loss(y_true, y_pred, beta):\n",
    "    errors = (y_true - y_pred)**2\n",
    "    return np.mean(errors / (errors + beta**2))\n",
    "\n",
    "# Betas\n",
    "betas = [1, 1e-6, 1e3]\n",
    "\n",
    "# Calculate losses for both models\n",
    "results = []\n",
    "for beta in betas:\n",
    "    loss_m1 = robust_loss(y, model1(x), beta)\n",
    "    loss_m2 = robust_loss(y, model2(x), beta)\n",
    "    results.append([beta, loss_m1, loss_m2])\n",
    "\n",
    "# Put into DataFrame\n",
    "df_results = pd.DataFrame(results, columns=[\"Beta\", \"Loss_Model1\", \"Loss_Model2\"])\n",
    "print(df_results)\n"
   ]
  },
  {
   "cell_type": "markdown",
   "id": "a5f9865e",
   "metadata": {},
   "source": [
    "What β does"
   ]
  },
  {
   "cell_type": "markdown",
   "id": "a3581f4d",
   "metadata": {},
   "source": [
    "β very small (1e-6):\n",
    "\n",
    "The denominator ≈ (error² + tiny number) → almost equal to (error²).\n",
    "So loss ≈ 1 for every sample.\n",
    "That means all errors, including outliers, dominate equally.\n",
    "This is not robust, because outliers still strongly influence the model.\n",
    "\n",
    "β very large (1000):\n",
    "\n",
    "The denominator ≈ β² (huge number).\n",
    "So the fraction ≈ error² / β² → almost 0 for all samples.\n",
    "That means even very large errors (outliers) are shrunk too much — outliers lose all impact, but so do normal points.\n",
    "This makes the loss function meaningless (it approaches zero regardless of error size).\n",
    "\n",
    "β = 1 (moderate):\n",
    "\n",
    "The denominator balances between error² and β².\n",
    "Small errors contribute meaningfully.\n",
    "Large errors (outliers) get downweighted (because β² softens their influence).\n",
    "This is the sweet spot: the model still “listens” to normal points while reducing the impact of extreme outliers."
   ]
  },
  {
   "cell_type": "markdown",
   "id": "9586471e",
   "metadata": {},
   "source": [
    "The suitable β value is β = 1, because:\n",
    "\n",
    "When β is too small, outliers dominate (loss = 1 for both models).\n",
    "When β is too large, all points lose their influence (loss ≈ 0).\n",
    "A moderate β (like 1) strikes a balance: normal points are considered properly, and outliers have reduced influence."
   ]
  },
  {
   "cell_type": "markdown",
   "id": "2cf519a0",
   "metadata": {},
   "source": [
    "The most suitable model is Model 1: \n",
    "𝑦 = −4𝑥 + 12\n",
    "y=−4x+12, because with the robust estimator at β = 1, it achieves a lower loss (0.4354) compared to Model 2 (0.9728). This shows Model 1 better captures the main trend of the data while mitigating the influence of outliers."
   ]
  },
  {
   "cell_type": "markdown",
   "id": "3998758d",
   "metadata": {},
   "source": [
    "The ordinary regression model (Model 2) was pulled heavily by the large outliers (y=-30 at x=3 and y=-40 at x=4).\n",
    "\n",
    "The robust estimator downweights these extreme points, giving more importance to the general trend of the other data points.\n",
    "\n",
    "Under this criterion, Model 1 achieves a significantly lower robust loss, making it the most suitable model for this dataset."
   ]
  },
  {
   "cell_type": "code",
   "execution_count": null,
   "id": "93de7cb2",
   "metadata": {},
   "outputs": [],
   "source": []
  }
 ],
 "metadata": {
  "kernelspec": {
   "display_name": "Python 3",
   "language": "python",
   "name": "python3"
  },
  "language_info": {
   "codemirror_mode": {
    "name": "ipython",
    "version": 3
   },
   "file_extension": ".py",
   "mimetype": "text/x-python",
   "name": "python",
   "nbconvert_exporter": "python",
   "pygments_lexer": "ipython3",
   "version": "3.13.3"
  }
 },
 "nbformat": 4,
 "nbformat_minor": 5
}
